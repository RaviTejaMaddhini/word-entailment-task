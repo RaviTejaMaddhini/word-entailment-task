{
  "nbformat": 4,
  "nbformat_minor": 0,
  "metadata": {
    "kernelspec": {
      "display_name": "Python 3",
      "language": "python",
      "name": "python3"
    },
    "language_info": {
      "codemirror_mode": {
        "name": "ipython",
        "version": 3
      },
      "file_extension": ".py",
      "mimetype": "text/x-python",
      "name": "python",
      "nbconvert_exporter": "python",
      "pygments_lexer": "ipython3",
      "version": "3.6.9"
    },
    "colab": {
      "name": "Main.ipynb",
      "provenance": [],
      "collapsed_sections": []
    },
    "accelerator": "GPU",
    "widgets": {
      "application/vnd.jupyter.widget-state+json": {
        "f70c3e134f3b42d5a9bc453505275b4b": {
          "model_module": "@jupyter-widgets/controls",
          "model_name": "HBoxModel",
          "state": {
            "_view_name": "HBoxView",
            "_dom_classes": [],
            "_model_name": "HBoxModel",
            "_view_module": "@jupyter-widgets/controls",
            "_model_module_version": "1.5.0",
            "_view_count": null,
            "_view_module_version": "1.5.0",
            "box_style": "",
            "layout": "IPY_MODEL_1c3582c941fa435c99404b62bd6b68c0",
            "_model_module": "@jupyter-widgets/controls",
            "children": [
              "IPY_MODEL_608bc13b159e495997551941d0c64082",
              "IPY_MODEL_1160ac975fd343c8b86f0e265f3b4e50"
            ]
          }
        },
        "1c3582c941fa435c99404b62bd6b68c0": {
          "model_module": "@jupyter-widgets/base",
          "model_name": "LayoutModel",
          "state": {
            "_view_name": "LayoutView",
            "grid_template_rows": null,
            "right": null,
            "justify_content": null,
            "_view_module": "@jupyter-widgets/base",
            "overflow": null,
            "_model_module_version": "1.2.0",
            "_view_count": null,
            "flex_flow": null,
            "width": null,
            "min_width": null,
            "border": null,
            "align_items": null,
            "bottom": null,
            "_model_module": "@jupyter-widgets/base",
            "top": null,
            "grid_column": null,
            "overflow_y": null,
            "overflow_x": null,
            "grid_auto_flow": null,
            "grid_area": null,
            "grid_template_columns": null,
            "flex": null,
            "_model_name": "LayoutModel",
            "justify_items": null,
            "grid_row": null,
            "max_height": null,
            "align_content": null,
            "visibility": null,
            "align_self": null,
            "height": null,
            "min_height": null,
            "padding": null,
            "grid_auto_rows": null,
            "grid_gap": null,
            "max_width": null,
            "order": null,
            "_view_module_version": "1.2.0",
            "grid_template_areas": null,
            "object_position": null,
            "object_fit": null,
            "grid_auto_columns": null,
            "margin": null,
            "display": null,
            "left": null
          }
        },
        "608bc13b159e495997551941d0c64082": {
          "model_module": "@jupyter-widgets/controls",
          "model_name": "FloatProgressModel",
          "state": {
            "_view_name": "ProgressView",
            "style": "IPY_MODEL_851fcfb08edb495e87d471df2d2a1bca",
            "_dom_classes": [],
            "description": "Downloading: 100%",
            "_model_name": "FloatProgressModel",
            "bar_style": "success",
            "max": 231508,
            "_view_module": "@jupyter-widgets/controls",
            "_model_module_version": "1.5.0",
            "value": 231508,
            "_view_count": null,
            "_view_module_version": "1.5.0",
            "orientation": "horizontal",
            "min": 0,
            "description_tooltip": null,
            "_model_module": "@jupyter-widgets/controls",
            "layout": "IPY_MODEL_6027ceb0f44043dd84f796dd035ddc73"
          }
        },
        "1160ac975fd343c8b86f0e265f3b4e50": {
          "model_module": "@jupyter-widgets/controls",
          "model_name": "HTMLModel",
          "state": {
            "_view_name": "HTMLView",
            "style": "IPY_MODEL_feeac7b4073c473bbdbd28841cfb449c",
            "_dom_classes": [],
            "description": "",
            "_model_name": "HTMLModel",
            "placeholder": "​",
            "_view_module": "@jupyter-widgets/controls",
            "_model_module_version": "1.5.0",
            "value": " 232k/232k [00:00&lt;00:00, 331kB/s]",
            "_view_count": null,
            "_view_module_version": "1.5.0",
            "description_tooltip": null,
            "_model_module": "@jupyter-widgets/controls",
            "layout": "IPY_MODEL_f4a9ed8828ed446781db94a588574f49"
          }
        },
        "851fcfb08edb495e87d471df2d2a1bca": {
          "model_module": "@jupyter-widgets/controls",
          "model_name": "ProgressStyleModel",
          "state": {
            "_view_name": "StyleView",
            "_model_name": "ProgressStyleModel",
            "description_width": "initial",
            "_view_module": "@jupyter-widgets/base",
            "_model_module_version": "1.5.0",
            "_view_count": null,
            "_view_module_version": "1.2.0",
            "bar_color": null,
            "_model_module": "@jupyter-widgets/controls"
          }
        },
        "6027ceb0f44043dd84f796dd035ddc73": {
          "model_module": "@jupyter-widgets/base",
          "model_name": "LayoutModel",
          "state": {
            "_view_name": "LayoutView",
            "grid_template_rows": null,
            "right": null,
            "justify_content": null,
            "_view_module": "@jupyter-widgets/base",
            "overflow": null,
            "_model_module_version": "1.2.0",
            "_view_count": null,
            "flex_flow": null,
            "width": null,
            "min_width": null,
            "border": null,
            "align_items": null,
            "bottom": null,
            "_model_module": "@jupyter-widgets/base",
            "top": null,
            "grid_column": null,
            "overflow_y": null,
            "overflow_x": null,
            "grid_auto_flow": null,
            "grid_area": null,
            "grid_template_columns": null,
            "flex": null,
            "_model_name": "LayoutModel",
            "justify_items": null,
            "grid_row": null,
            "max_height": null,
            "align_content": null,
            "visibility": null,
            "align_self": null,
            "height": null,
            "min_height": null,
            "padding": null,
            "grid_auto_rows": null,
            "grid_gap": null,
            "max_width": null,
            "order": null,
            "_view_module_version": "1.2.0",
            "grid_template_areas": null,
            "object_position": null,
            "object_fit": null,
            "grid_auto_columns": null,
            "margin": null,
            "display": null,
            "left": null
          }
        },
        "feeac7b4073c473bbdbd28841cfb449c": {
          "model_module": "@jupyter-widgets/controls",
          "model_name": "DescriptionStyleModel",
          "state": {
            "_view_name": "StyleView",
            "_model_name": "DescriptionStyleModel",
            "description_width": "",
            "_view_module": "@jupyter-widgets/base",
            "_model_module_version": "1.5.0",
            "_view_count": null,
            "_view_module_version": "1.2.0",
            "_model_module": "@jupyter-widgets/controls"
          }
        },
        "f4a9ed8828ed446781db94a588574f49": {
          "model_module": "@jupyter-widgets/base",
          "model_name": "LayoutModel",
          "state": {
            "_view_name": "LayoutView",
            "grid_template_rows": null,
            "right": null,
            "justify_content": null,
            "_view_module": "@jupyter-widgets/base",
            "overflow": null,
            "_model_module_version": "1.2.0",
            "_view_count": null,
            "flex_flow": null,
            "width": null,
            "min_width": null,
            "border": null,
            "align_items": null,
            "bottom": null,
            "_model_module": "@jupyter-widgets/base",
            "top": null,
            "grid_column": null,
            "overflow_y": null,
            "overflow_x": null,
            "grid_auto_flow": null,
            "grid_area": null,
            "grid_template_columns": null,
            "flex": null,
            "_model_name": "LayoutModel",
            "justify_items": null,
            "grid_row": null,
            "max_height": null,
            "align_content": null,
            "visibility": null,
            "align_self": null,
            "height": null,
            "min_height": null,
            "padding": null,
            "grid_auto_rows": null,
            "grid_gap": null,
            "max_width": null,
            "order": null,
            "_view_module_version": "1.2.0",
            "grid_template_areas": null,
            "object_position": null,
            "object_fit": null,
            "grid_auto_columns": null,
            "margin": null,
            "display": null,
            "left": null
          }
        },
        "23568e6440f6464dbdf00823289c7f5a": {
          "model_module": "@jupyter-widgets/controls",
          "model_name": "HBoxModel",
          "state": {
            "_view_name": "HBoxView",
            "_dom_classes": [],
            "_model_name": "HBoxModel",
            "_view_module": "@jupyter-widgets/controls",
            "_model_module_version": "1.5.0",
            "_view_count": null,
            "_view_module_version": "1.5.0",
            "box_style": "",
            "layout": "IPY_MODEL_7f6ef1aa531d42059178efa67a3bf5e3",
            "_model_module": "@jupyter-widgets/controls",
            "children": [
              "IPY_MODEL_8d92dece95554163844a5f0328258612",
              "IPY_MODEL_4af8842f870241078b137551e1c8ad83"
            ]
          }
        },
        "7f6ef1aa531d42059178efa67a3bf5e3": {
          "model_module": "@jupyter-widgets/base",
          "model_name": "LayoutModel",
          "state": {
            "_view_name": "LayoutView",
            "grid_template_rows": null,
            "right": null,
            "justify_content": null,
            "_view_module": "@jupyter-widgets/base",
            "overflow": null,
            "_model_module_version": "1.2.0",
            "_view_count": null,
            "flex_flow": null,
            "width": null,
            "min_width": null,
            "border": null,
            "align_items": null,
            "bottom": null,
            "_model_module": "@jupyter-widgets/base",
            "top": null,
            "grid_column": null,
            "overflow_y": null,
            "overflow_x": null,
            "grid_auto_flow": null,
            "grid_area": null,
            "grid_template_columns": null,
            "flex": null,
            "_model_name": "LayoutModel",
            "justify_items": null,
            "grid_row": null,
            "max_height": null,
            "align_content": null,
            "visibility": null,
            "align_self": null,
            "height": null,
            "min_height": null,
            "padding": null,
            "grid_auto_rows": null,
            "grid_gap": null,
            "max_width": null,
            "order": null,
            "_view_module_version": "1.2.0",
            "grid_template_areas": null,
            "object_position": null,
            "object_fit": null,
            "grid_auto_columns": null,
            "margin": null,
            "display": null,
            "left": null
          }
        },
        "8d92dece95554163844a5f0328258612": {
          "model_module": "@jupyter-widgets/controls",
          "model_name": "FloatProgressModel",
          "state": {
            "_view_name": "ProgressView",
            "style": "IPY_MODEL_22e896a23d044a358ca08b6f8a70dc4a",
            "_dom_classes": [],
            "description": "Downloading: 100%",
            "_model_name": "FloatProgressModel",
            "bar_style": "success",
            "max": 433,
            "_view_module": "@jupyter-widgets/controls",
            "_model_module_version": "1.5.0",
            "value": 433,
            "_view_count": null,
            "_view_module_version": "1.5.0",
            "orientation": "horizontal",
            "min": 0,
            "description_tooltip": null,
            "_model_module": "@jupyter-widgets/controls",
            "layout": "IPY_MODEL_c6203700aab84bd2bdde17399e315d41"
          }
        },
        "4af8842f870241078b137551e1c8ad83": {
          "model_module": "@jupyter-widgets/controls",
          "model_name": "HTMLModel",
          "state": {
            "_view_name": "HTMLView",
            "style": "IPY_MODEL_2867d905909c4564a4b358659c40474b",
            "_dom_classes": [],
            "description": "",
            "_model_name": "HTMLModel",
            "placeholder": "​",
            "_view_module": "@jupyter-widgets/controls",
            "_model_module_version": "1.5.0",
            "value": " 433/433 [00:07&lt;00:00, 56.4B/s]",
            "_view_count": null,
            "_view_module_version": "1.5.0",
            "description_tooltip": null,
            "_model_module": "@jupyter-widgets/controls",
            "layout": "IPY_MODEL_6883da77cdd548f8a9971fea5b01e001"
          }
        },
        "22e896a23d044a358ca08b6f8a70dc4a": {
          "model_module": "@jupyter-widgets/controls",
          "model_name": "ProgressStyleModel",
          "state": {
            "_view_name": "StyleView",
            "_model_name": "ProgressStyleModel",
            "description_width": "initial",
            "_view_module": "@jupyter-widgets/base",
            "_model_module_version": "1.5.0",
            "_view_count": null,
            "_view_module_version": "1.2.0",
            "bar_color": null,
            "_model_module": "@jupyter-widgets/controls"
          }
        },
        "c6203700aab84bd2bdde17399e315d41": {
          "model_module": "@jupyter-widgets/base",
          "model_name": "LayoutModel",
          "state": {
            "_view_name": "LayoutView",
            "grid_template_rows": null,
            "right": null,
            "justify_content": null,
            "_view_module": "@jupyter-widgets/base",
            "overflow": null,
            "_model_module_version": "1.2.0",
            "_view_count": null,
            "flex_flow": null,
            "width": null,
            "min_width": null,
            "border": null,
            "align_items": null,
            "bottom": null,
            "_model_module": "@jupyter-widgets/base",
            "top": null,
            "grid_column": null,
            "overflow_y": null,
            "overflow_x": null,
            "grid_auto_flow": null,
            "grid_area": null,
            "grid_template_columns": null,
            "flex": null,
            "_model_name": "LayoutModel",
            "justify_items": null,
            "grid_row": null,
            "max_height": null,
            "align_content": null,
            "visibility": null,
            "align_self": null,
            "height": null,
            "min_height": null,
            "padding": null,
            "grid_auto_rows": null,
            "grid_gap": null,
            "max_width": null,
            "order": null,
            "_view_module_version": "1.2.0",
            "grid_template_areas": null,
            "object_position": null,
            "object_fit": null,
            "grid_auto_columns": null,
            "margin": null,
            "display": null,
            "left": null
          }
        },
        "2867d905909c4564a4b358659c40474b": {
          "model_module": "@jupyter-widgets/controls",
          "model_name": "DescriptionStyleModel",
          "state": {
            "_view_name": "StyleView",
            "_model_name": "DescriptionStyleModel",
            "description_width": "",
            "_view_module": "@jupyter-widgets/base",
            "_model_module_version": "1.5.0",
            "_view_count": null,
            "_view_module_version": "1.2.0",
            "_model_module": "@jupyter-widgets/controls"
          }
        },
        "6883da77cdd548f8a9971fea5b01e001": {
          "model_module": "@jupyter-widgets/base",
          "model_name": "LayoutModel",
          "state": {
            "_view_name": "LayoutView",
            "grid_template_rows": null,
            "right": null,
            "justify_content": null,
            "_view_module": "@jupyter-widgets/base",
            "overflow": null,
            "_model_module_version": "1.2.0",
            "_view_count": null,
            "flex_flow": null,
            "width": null,
            "min_width": null,
            "border": null,
            "align_items": null,
            "bottom": null,
            "_model_module": "@jupyter-widgets/base",
            "top": null,
            "grid_column": null,
            "overflow_y": null,
            "overflow_x": null,
            "grid_auto_flow": null,
            "grid_area": null,
            "grid_template_columns": null,
            "flex": null,
            "_model_name": "LayoutModel",
            "justify_items": null,
            "grid_row": null,
            "max_height": null,
            "align_content": null,
            "visibility": null,
            "align_self": null,
            "height": null,
            "min_height": null,
            "padding": null,
            "grid_auto_rows": null,
            "grid_gap": null,
            "max_width": null,
            "order": null,
            "_view_module_version": "1.2.0",
            "grid_template_areas": null,
            "object_position": null,
            "object_fit": null,
            "grid_auto_columns": null,
            "margin": null,
            "display": null,
            "left": null
          }
        },
        "d3e6b2e35ffc4e0ba613513a7c037877": {
          "model_module": "@jupyter-widgets/controls",
          "model_name": "HBoxModel",
          "state": {
            "_view_name": "HBoxView",
            "_dom_classes": [],
            "_model_name": "HBoxModel",
            "_view_module": "@jupyter-widgets/controls",
            "_model_module_version": "1.5.0",
            "_view_count": null,
            "_view_module_version": "1.5.0",
            "box_style": "",
            "layout": "IPY_MODEL_292196e5935b4e3b8dce10f3960a9437",
            "_model_module": "@jupyter-widgets/controls",
            "children": [
              "IPY_MODEL_26bd72fe29f94d63bdba71c916b229ec",
              "IPY_MODEL_0f65d4ff38fe42ab8ba698db82364057"
            ]
          }
        },
        "292196e5935b4e3b8dce10f3960a9437": {
          "model_module": "@jupyter-widgets/base",
          "model_name": "LayoutModel",
          "state": {
            "_view_name": "LayoutView",
            "grid_template_rows": null,
            "right": null,
            "justify_content": null,
            "_view_module": "@jupyter-widgets/base",
            "overflow": null,
            "_model_module_version": "1.2.0",
            "_view_count": null,
            "flex_flow": null,
            "width": null,
            "min_width": null,
            "border": null,
            "align_items": null,
            "bottom": null,
            "_model_module": "@jupyter-widgets/base",
            "top": null,
            "grid_column": null,
            "overflow_y": null,
            "overflow_x": null,
            "grid_auto_flow": null,
            "grid_area": null,
            "grid_template_columns": null,
            "flex": null,
            "_model_name": "LayoutModel",
            "justify_items": null,
            "grid_row": null,
            "max_height": null,
            "align_content": null,
            "visibility": null,
            "align_self": null,
            "height": null,
            "min_height": null,
            "padding": null,
            "grid_auto_rows": null,
            "grid_gap": null,
            "max_width": null,
            "order": null,
            "_view_module_version": "1.2.0",
            "grid_template_areas": null,
            "object_position": null,
            "object_fit": null,
            "grid_auto_columns": null,
            "margin": null,
            "display": null,
            "left": null
          }
        },
        "26bd72fe29f94d63bdba71c916b229ec": {
          "model_module": "@jupyter-widgets/controls",
          "model_name": "FloatProgressModel",
          "state": {
            "_view_name": "ProgressView",
            "style": "IPY_MODEL_4d839c78ce5d461b9c326ad030d77085",
            "_dom_classes": [],
            "description": "Downloading: 100%",
            "_model_name": "FloatProgressModel",
            "bar_style": "success",
            "max": 536063208,
            "_view_module": "@jupyter-widgets/controls",
            "_model_module_version": "1.5.0",
            "value": 536063208,
            "_view_count": null,
            "_view_module_version": "1.5.0",
            "orientation": "horizontal",
            "min": 0,
            "description_tooltip": null,
            "_model_module": "@jupyter-widgets/controls",
            "layout": "IPY_MODEL_bd0abd555870492c878651b68f1e811b"
          }
        },
        "0f65d4ff38fe42ab8ba698db82364057": {
          "model_module": "@jupyter-widgets/controls",
          "model_name": "HTMLModel",
          "state": {
            "_view_name": "HTMLView",
            "style": "IPY_MODEL_ca5e2b61dd334750bbb56f83e2b001e0",
            "_dom_classes": [],
            "description": "",
            "_model_name": "HTMLModel",
            "placeholder": "​",
            "_view_module": "@jupyter-widgets/controls",
            "_model_module_version": "1.5.0",
            "value": " 536M/536M [00:07&lt;00:00, 74.6MB/s]",
            "_view_count": null,
            "_view_module_version": "1.5.0",
            "description_tooltip": null,
            "_model_module": "@jupyter-widgets/controls",
            "layout": "IPY_MODEL_a72bcb1632cf415abfb23c506dd803ef"
          }
        },
        "4d839c78ce5d461b9c326ad030d77085": {
          "model_module": "@jupyter-widgets/controls",
          "model_name": "ProgressStyleModel",
          "state": {
            "_view_name": "StyleView",
            "_model_name": "ProgressStyleModel",
            "description_width": "initial",
            "_view_module": "@jupyter-widgets/base",
            "_model_module_version": "1.5.0",
            "_view_count": null,
            "_view_module_version": "1.2.0",
            "bar_color": null,
            "_model_module": "@jupyter-widgets/controls"
          }
        },
        "bd0abd555870492c878651b68f1e811b": {
          "model_module": "@jupyter-widgets/base",
          "model_name": "LayoutModel",
          "state": {
            "_view_name": "LayoutView",
            "grid_template_rows": null,
            "right": null,
            "justify_content": null,
            "_view_module": "@jupyter-widgets/base",
            "overflow": null,
            "_model_module_version": "1.2.0",
            "_view_count": null,
            "flex_flow": null,
            "width": null,
            "min_width": null,
            "border": null,
            "align_items": null,
            "bottom": null,
            "_model_module": "@jupyter-widgets/base",
            "top": null,
            "grid_column": null,
            "overflow_y": null,
            "overflow_x": null,
            "grid_auto_flow": null,
            "grid_area": null,
            "grid_template_columns": null,
            "flex": null,
            "_model_name": "LayoutModel",
            "justify_items": null,
            "grid_row": null,
            "max_height": null,
            "align_content": null,
            "visibility": null,
            "align_self": null,
            "height": null,
            "min_height": null,
            "padding": null,
            "grid_auto_rows": null,
            "grid_gap": null,
            "max_width": null,
            "order": null,
            "_view_module_version": "1.2.0",
            "grid_template_areas": null,
            "object_position": null,
            "object_fit": null,
            "grid_auto_columns": null,
            "margin": null,
            "display": null,
            "left": null
          }
        },
        "ca5e2b61dd334750bbb56f83e2b001e0": {
          "model_module": "@jupyter-widgets/controls",
          "model_name": "DescriptionStyleModel",
          "state": {
            "_view_name": "StyleView",
            "_model_name": "DescriptionStyleModel",
            "description_width": "",
            "_view_module": "@jupyter-widgets/base",
            "_model_module_version": "1.5.0",
            "_view_count": null,
            "_view_module_version": "1.2.0",
            "_model_module": "@jupyter-widgets/controls"
          }
        },
        "a72bcb1632cf415abfb23c506dd803ef": {
          "model_module": "@jupyter-widgets/base",
          "model_name": "LayoutModel",
          "state": {
            "_view_name": "LayoutView",
            "grid_template_rows": null,
            "right": null,
            "justify_content": null,
            "_view_module": "@jupyter-widgets/base",
            "overflow": null,
            "_model_module_version": "1.2.0",
            "_view_count": null,
            "flex_flow": null,
            "width": null,
            "min_width": null,
            "border": null,
            "align_items": null,
            "bottom": null,
            "_model_module": "@jupyter-widgets/base",
            "top": null,
            "grid_column": null,
            "overflow_y": null,
            "overflow_x": null,
            "grid_auto_flow": null,
            "grid_area": null,
            "grid_template_columns": null,
            "flex": null,
            "_model_name": "LayoutModel",
            "justify_items": null,
            "grid_row": null,
            "max_height": null,
            "align_content": null,
            "visibility": null,
            "align_self": null,
            "height": null,
            "min_height": null,
            "padding": null,
            "grid_auto_rows": null,
            "grid_gap": null,
            "max_width": null,
            "order": null,
            "_view_module_version": "1.2.0",
            "grid_template_areas": null,
            "object_position": null,
            "object_fit": null,
            "grid_auto_columns": null,
            "margin": null,
            "display": null,
            "left": null
          }
        }
      }
    }
  },
  "cells": [
    {
      "cell_type": "code",
      "metadata": {
        "id": "7GBlbZGG6sok",
        "colab_type": "code",
        "colab": {
          "base_uri": "https://localhost:8080/",
          "height": 360
        },
        "outputId": "ad174715-275e-4435-d7c3-4e4a1b8c2048"
      },
      "source": [
        "#!nvidia-smi\n",
        "#!pip3 install -U tensorflow-gpu\n",
        "!pip3 install transformers"
      ],
      "execution_count": 1,
      "outputs": [
        {
          "output_type": "stream",
          "text": [
            "Requirement already satisfied: transformers in /usr/local/lib/python3.6/dist-packages (3.0.2)\n",
            "Requirement already satisfied: packaging in /usr/local/lib/python3.6/dist-packages (from transformers) (20.4)\n",
            "Requirement already satisfied: regex!=2019.12.17 in /usr/local/lib/python3.6/dist-packages (from transformers) (2019.12.20)\n",
            "Requirement already satisfied: requests in /usr/local/lib/python3.6/dist-packages (from transformers) (2.23.0)\n",
            "Requirement already satisfied: sentencepiece!=0.1.92 in /usr/local/lib/python3.6/dist-packages (from transformers) (0.1.91)\n",
            "Requirement already satisfied: dataclasses; python_version < \"3.7\" in /usr/local/lib/python3.6/dist-packages (from transformers) (0.7)\n",
            "Requirement already satisfied: sacremoses in /usr/local/lib/python3.6/dist-packages (from transformers) (0.0.43)\n",
            "Requirement already satisfied: filelock in /usr/local/lib/python3.6/dist-packages (from transformers) (3.0.12)\n",
            "Requirement already satisfied: tqdm>=4.27 in /usr/local/lib/python3.6/dist-packages (from transformers) (4.41.1)\n",
            "Requirement already satisfied: numpy in /usr/local/lib/python3.6/dist-packages (from transformers) (1.18.5)\n",
            "Requirement already satisfied: tokenizers==0.8.1.rc1 in /usr/local/lib/python3.6/dist-packages (from transformers) (0.8.1rc1)\n",
            "Requirement already satisfied: six in /usr/local/lib/python3.6/dist-packages (from packaging->transformers) (1.15.0)\n",
            "Requirement already satisfied: pyparsing>=2.0.2 in /usr/local/lib/python3.6/dist-packages (from packaging->transformers) (2.4.7)\n",
            "Requirement already satisfied: urllib3!=1.25.0,!=1.25.1,<1.26,>=1.21.1 in /usr/local/lib/python3.6/dist-packages (from requests->transformers) (1.24.3)\n",
            "Requirement already satisfied: chardet<4,>=3.0.2 in /usr/local/lib/python3.6/dist-packages (from requests->transformers) (3.0.4)\n",
            "Requirement already satisfied: idna<3,>=2.5 in /usr/local/lib/python3.6/dist-packages (from requests->transformers) (2.10)\n",
            "Requirement already satisfied: certifi>=2017.4.17 in /usr/local/lib/python3.6/dist-packages (from requests->transformers) (2020.6.20)\n",
            "Requirement already satisfied: click in /usr/local/lib/python3.6/dist-packages (from sacremoses->transformers) (7.1.2)\n",
            "Requirement already satisfied: joblib in /usr/local/lib/python3.6/dist-packages (from sacremoses->transformers) (0.16.0)\n"
          ],
          "name": "stdout"
        }
      ]
    },
    {
      "cell_type": "code",
      "metadata": {
        "id": "p7mrvi1L6oUN",
        "colab_type": "code",
        "colab": {}
      },
      "source": [
        "import tensorflow as tf \n",
        "import pandas as pd \n",
        "import numpy as np \n",
        "import os \n",
        "import json \n",
        "from tqdm import tqdm\n",
        "from transformers import BertTokenizer, TFBertForSequenceClassification,RobertaTokenizer, TFRobertaForSequenceClassification\n",
        "from tensorflow.keras.layers import Softmax,Input\n",
        "from tensorflow.keras.models import Model\n",
        "from imblearn.over_sampling import RandomOverSampler\n",
        "import tensorflow_datasets as tfds\n",
        "\n",
        "from sklearn.utils import shuffle"
      ],
      "execution_count": 40,
      "outputs": []
    },
    {
      "cell_type": "code",
      "metadata": {
        "id": "4oGZy2pu6oUV",
        "colab_type": "code",
        "colab": {
          "base_uri": "https://localhost:8080/",
          "height": 269,
          "referenced_widgets": [
            "f70c3e134f3b42d5a9bc453505275b4b",
            "1c3582c941fa435c99404b62bd6b68c0",
            "608bc13b159e495997551941d0c64082",
            "1160ac975fd343c8b86f0e265f3b4e50",
            "851fcfb08edb495e87d471df2d2a1bca",
            "6027ceb0f44043dd84f796dd035ddc73",
            "feeac7b4073c473bbdbd28841cfb449c",
            "f4a9ed8828ed446781db94a588574f49",
            "23568e6440f6464dbdf00823289c7f5a",
            "7f6ef1aa531d42059178efa67a3bf5e3",
            "8d92dece95554163844a5f0328258612",
            "4af8842f870241078b137551e1c8ad83",
            "22e896a23d044a358ca08b6f8a70dc4a",
            "c6203700aab84bd2bdde17399e315d41",
            "2867d905909c4564a4b358659c40474b",
            "6883da77cdd548f8a9971fea5b01e001",
            "d3e6b2e35ffc4e0ba613513a7c037877",
            "292196e5935b4e3b8dce10f3960a9437",
            "26bd72fe29f94d63bdba71c916b229ec",
            "0f65d4ff38fe42ab8ba698db82364057",
            "4d839c78ce5d461b9c326ad030d77085",
            "bd0abd555870492c878651b68f1e811b",
            "ca5e2b61dd334750bbb56f83e2b001e0",
            "a72bcb1632cf415abfb23c506dd803ef"
          ]
        },
        "outputId": "dcfeadaa-03f3-4647-d0d3-7f832d5e114a"
      },
      "source": [
        "tokenizer = BertTokenizer.from_pretrained('bert-base-uncased')\n",
        "model = TFBertForSequenceClassification.from_pretrained('bert-base-uncased')"
      ],
      "execution_count": 52,
      "outputs": [
        {
          "output_type": "display_data",
          "data": {
            "application/vnd.jupyter.widget-view+json": {
              "model_id": "f70c3e134f3b42d5a9bc453505275b4b",
              "version_minor": 0,
              "version_major": 2
            },
            "text/plain": [
              "HBox(children=(FloatProgress(value=0.0, description='Downloading', max=231508.0, style=ProgressStyle(descripti…"
            ]
          },
          "metadata": {
            "tags": []
          }
        },
        {
          "output_type": "stream",
          "text": [
            "\n"
          ],
          "name": "stdout"
        },
        {
          "output_type": "display_data",
          "data": {
            "application/vnd.jupyter.widget-view+json": {
              "model_id": "23568e6440f6464dbdf00823289c7f5a",
              "version_minor": 0,
              "version_major": 2
            },
            "text/plain": [
              "HBox(children=(FloatProgress(value=0.0, description='Downloading', max=433.0, style=ProgressStyle(description_…"
            ]
          },
          "metadata": {
            "tags": []
          }
        },
        {
          "output_type": "stream",
          "text": [
            "\n"
          ],
          "name": "stdout"
        },
        {
          "output_type": "display_data",
          "data": {
            "application/vnd.jupyter.widget-view+json": {
              "model_id": "d3e6b2e35ffc4e0ba613513a7c037877",
              "version_minor": 0,
              "version_major": 2
            },
            "text/plain": [
              "HBox(children=(FloatProgress(value=0.0, description='Downloading', max=536063208.0, style=ProgressStyle(descri…"
            ]
          },
          "metadata": {
            "tags": []
          }
        },
        {
          "output_type": "stream",
          "text": [
            "\n"
          ],
          "name": "stdout"
        },
        {
          "output_type": "stream",
          "text": [
            "Some weights of the model checkpoint at bert-base-uncased were not used when initializing TFBertForSequenceClassification: ['mlm___cls', 'nsp___cls']\n",
            "- This IS expected if you are initializing TFBertForSequenceClassification from the checkpoint of a model trained on another task or with another architecture (e.g. initializing a BertForSequenceClassification model from a BertForPretraining model).\n",
            "- This IS NOT expected if you are initializing TFBertForSequenceClassification from the checkpoint of a model that you expect to be exactly identical (initializing a BertForSequenceClassification model from a BertForSequenceClassification model).\n",
            "Some weights of TFBertForSequenceClassification were not initialized from the model checkpoint at bert-base-uncased and are newly initialized: ['dropout_150', 'classifier']\n",
            "You should probably TRAIN this model on a down-stream task to be able to use it for predictions and inference.\n"
          ],
          "name": "stderr"
        }
      ]
    },
    {
      "cell_type": "code",
      "metadata": {
        "id": "1pgkO3Ti6oUa",
        "colab_type": "code",
        "colab": {}
      },
      "source": [
        "with open(\"nli_wordentail_bakeoff_data.json\",\"r\") as file:\n",
        "    data=json.load(file)\n",
        "    file.close()"
      ],
      "execution_count": 53,
      "outputs": []
    },
    {
      "cell_type": "code",
      "metadata": {
        "id": "CWoDDu-86oUf",
        "colab_type": "code",
        "colab": {
          "base_uri": "https://localhost:8080/",
          "height": 71
        },
        "outputId": "a836972e-4ed3-445c-ac52-77d5ec44b089"
      },
      "source": [
        "print(data['train'][0:5])\n",
        "print(len(data['dev']))"
      ],
      "execution_count": 54,
      "outputs": [
        {
          "output_type": "stream",
          "text": [
            "[[['abode', 'house'], 1], [['abortion', 'anaemia'], 0], [['abortion', 'aneurysm'], 0], [['abortion', 'blindness'], 0], [['abortion', 'deafness'], 0]]\n",
            "2066\n"
          ],
          "name": "stdout"
        }
      ]
    },
    {
      "cell_type": "code",
      "metadata": {
        "id": "KH9H8az-6oUk",
        "colab_type": "code",
        "colab": {
          "base_uri": "https://localhost:8080/",
          "height": 105
        },
        "outputId": "5da8b7ed-de27-4861-d816-262374c4867c"
      },
      "source": [
        "pairs=[x[0] for x in data['train']]\n",
        "targets=[x[1] for x in data['train']]\n",
        "sampler=RandomOverSampler(sampling_strategy=\"all\",random_state=42)\n",
        "pairs,targets=sampler.fit_resample(pairs,targets)\n",
        "\n",
        "\n",
        "records=[[x[0],x[1]]for x in zip(pairs,targets)]\n",
        "records=shuffle(records,random_state=0)\n",
        "print(len(records))\n",
        "data['train']=records\n",
        "print(len(data['train']))"
      ],
      "execution_count": 55,
      "outputs": [
        {
          "output_type": "stream",
          "text": [
            "14000\n",
            "14000\n"
          ],
          "name": "stdout"
        },
        {
          "output_type": "stream",
          "text": [
            "/usr/local/lib/python3.6/dist-packages/sklearn/utils/deprecation.py:87: FutureWarning: Function safe_indexing is deprecated; safe_indexing is deprecated in version 0.22 and will be removed in version 0.24.\n",
            "  warnings.warn(msg, category=FutureWarning)\n"
          ],
          "name": "stderr"
        }
      ]
    },
    {
      "cell_type": "code",
      "metadata": {
        "id": "rtqlDSL_h9ZZ",
        "colab_type": "code",
        "colab": {}
      },
      "source": [
        "# ref=data['train'][0:5]\n",
        "# data['train']=ref\n",
        "# data['dev']=ref"
      ],
      "execution_count": 7,
      "outputs": []
    },
    {
      "cell_type": "code",
      "metadata": {
        "id": "k0qFaXnQZkqq",
        "colab_type": "code",
        "colab": {}
      },
      "source": [
        "def convert_example_to_feature(x):\n",
        "    words=x.split(\"$\")\n",
        "    bert_input = tokenizer.encode_plus(\n",
        "                        words[0],words[1],                      \n",
        "                        add_special_tokens = True,\n",
        "                        max_length = 30,\n",
        "                        pad_to_max_length = True,\n",
        "                        return_attention_mask = True,truncation=True)\n",
        "    return bert_input\n",
        "\n",
        "def map_example_to_dict(input_ids, attention_masks,token_type_ids,label):\n",
        "    return {\n",
        "      \"input_ids\": input_ids,\n",
        "      \"attention_mask\": attention_masks,\n",
        "      \"token_type_ids\":token_type_ids\n",
        "    }, label"
      ],
      "execution_count": 56,
      "outputs": []
    },
    {
      "cell_type": "code",
      "metadata": {
        "id": "INdoe7mMaKEG",
        "colab_type": "code",
        "colab": {}
      },
      "source": [
        "def encode_examples(ds, limit=-1):\n",
        "  # prepare list, so that we can build up final TensorFlow dataset from slices.\n",
        "  input_ids_list = []\n",
        "  attention_mask_list = []\n",
        "  token_type_ids_list=[]\n",
        "  label_list = []\n",
        "  if (limit > 0):\n",
        "      ds = ds.take(limit)\n",
        "    \n",
        "  for review, label in tqdm(tfds.as_numpy(ds)):\n",
        "    bert_input = convert_example_to_feature(review.decode())\n",
        "    input_ids_list.append(bert_input['input_ids'])\n",
        "    attention_mask_list.append(bert_input['attention_mask'])\n",
        "    token_type_ids_list.append(bert_input['token_type_ids'])\n",
        "    label_list.append([label])\n",
        "  return tf.data.Dataset.from_tensor_slices((input_ids_list, attention_mask_list,token_type_ids_list,label_list)).map(map_example_to_dict)"
      ],
      "execution_count": 57,
      "outputs": []
    },
    {
      "cell_type": "code",
      "metadata": {
        "id": "MyQQZutyZXO7",
        "colab_type": "code",
        "colab": {}
      },
      "source": [
        "pairs=[x[0][0]+\"$\"+x[0][1] for x in data['train']]\n",
        "targets=[x[1] for x in data['train']]\n",
        "training_dataset = (\n",
        "    tf.data.Dataset.from_tensor_slices(\n",
        "        (\n",
        "            tf.cast(pairs, tf.string),\n",
        "            tf.cast(targets, tf.int32)\n",
        "        )\n",
        "    )\n",
        ")\n",
        "\n",
        "pairs=[x[0][0]+\"$\"+x[0][1] for x in data['dev']]\n",
        "targets=[x[1] for x in data['dev']]\n",
        "testing_dataset = (\n",
        "    tf.data.Dataset.from_tensor_slices(\n",
        "        (\n",
        "            tf.cast(pairs, tf.string),\n",
        "            tf.cast(targets, tf.int32)\n",
        "        )\n",
        "    )\n",
        ")"
      ],
      "execution_count": 58,
      "outputs": []
    },
    {
      "cell_type": "code",
      "metadata": {
        "id": "dsv1f80ybhTx",
        "colab_type": "code",
        "colab": {
          "base_uri": "https://localhost:8080/",
          "height": 51
        },
        "outputId": "1498f33f-aeff-4239-9041-5d96c23bccf1"
      },
      "source": [
        "train_ds = encode_examples(training_dataset).shuffle(10000).batch(128)\n",
        "test_ds = encode_examples(testing_dataset).batch(128)"
      ],
      "execution_count": 59,
      "outputs": [
        {
          "output_type": "stream",
          "text": [
            "14000it [00:07, 1875.06it/s]\n",
            "2066it [00:00, 2127.96it/s]\n"
          ],
          "name": "stderr"
        }
      ]
    },
    {
      "cell_type": "code",
      "metadata": {
        "id": "Ns9gEd9S6oVD",
        "colab_type": "code",
        "colab": {}
      },
      "source": [
        "loss = tf.keras.losses.SparseCategoricalCrossentropy(from_logits=True)\n",
        "metric = tf.keras.metrics.SparseCategoricalAccuracy('accuracy')\n",
        "optimizer = tf.keras.optimizers.Nadam(learning_rate=0.00001)\n",
        "model.compile(loss=loss, optimizer=optimizer, metrics=[metric])\n",
        "chkpnt=tf.keras.callbacks.ModelCheckpoint(filepath='model.{epoch:02d}-{val_accuracy:.4f}.h5',\n",
        "                                              monitor='val_accuracy',\n",
        "                                              verbose=1,\n",
        "                                              mode='max',\n",
        "                                              save_best_only=True)"
      ],
      "execution_count": 73,
      "outputs": []
    },
    {
      "cell_type": "code",
      "metadata": {
        "id": "fe06zFxbsroi",
        "colab_type": "code",
        "colab": {}
      },
      "source": [
        "model.config.hidden_dropout_prob=0.2\n",
        "model.config.attention_probs_dropout_prob=0.2"
      ],
      "execution_count": 74,
      "outputs": []
    },
    {
      "cell_type": "code",
      "metadata": {
        "id": "KjVOOy1jj4lM",
        "colab_type": "code",
        "colab": {
          "base_uri": "https://localhost:8080/",
          "height": 1000
        },
        "outputId": "f303950c-5337-4b2d-d248-aaa564ad4920"
      },
      "source": [
        "model.fit(train_ds,epochs=20,validation_data=test_ds,callbacks=[chkpnt])"
      ],
      "execution_count": 75,
      "outputs": [
        {
          "output_type": "stream",
          "text": [
            "Epoch 1/20\n",
            "110/110 [==============================] - ETA: 0s - loss: 0.0927 - accuracy: 0.9696\n",
            "Epoch 00001: val_accuracy improved from -inf to 0.89400, saving model to model.01-0.8940.h5\n",
            "110/110 [==============================] - 93s 846ms/step - loss: 0.0927 - accuracy: 0.9696 - val_loss: 0.3721 - val_accuracy: 0.8940\n",
            "Epoch 2/20\n",
            "110/110 [==============================] - ETA: 0s - loss: 0.0629 - accuracy: 0.9800\n",
            "Epoch 00002: val_accuracy did not improve from 0.89400\n",
            "110/110 [==============================] - 90s 816ms/step - loss: 0.0629 - accuracy: 0.9800 - val_loss: 0.4361 - val_accuracy: 0.8921\n",
            "Epoch 3/20\n",
            "110/110 [==============================] - ETA: 0s - loss: 0.0497 - accuracy: 0.9834\n",
            "Epoch 00003: val_accuracy did not improve from 0.89400\n",
            "110/110 [==============================] - 90s 817ms/step - loss: 0.0497 - accuracy: 0.9834 - val_loss: 0.4324 - val_accuracy: 0.8911\n",
            "Epoch 4/20\n",
            "110/110 [==============================] - ETA: 0s - loss: 0.0365 - accuracy: 0.9892\n",
            "Epoch 00004: val_accuracy did not improve from 0.89400\n",
            "110/110 [==============================] - 90s 816ms/step - loss: 0.0365 - accuracy: 0.9892 - val_loss: 0.4829 - val_accuracy: 0.8872\n",
            "Epoch 5/20\n",
            "110/110 [==============================] - ETA: 0s - loss: 0.0281 - accuracy: 0.9922\n",
            "Epoch 00005: val_accuracy improved from 0.89400 to 0.89448, saving model to model.05-0.8945.h5\n",
            "110/110 [==============================] - 91s 828ms/step - loss: 0.0281 - accuracy: 0.9922 - val_loss: 0.4769 - val_accuracy: 0.8945\n",
            "Epoch 6/20\n",
            "110/110 [==============================] - ETA: 0s - loss: 0.0217 - accuracy: 0.9936\n",
            "Epoch 00006: val_accuracy did not improve from 0.89448\n",
            "110/110 [==============================] - 90s 817ms/step - loss: 0.0217 - accuracy: 0.9936 - val_loss: 0.5050 - val_accuracy: 0.8911\n",
            "Epoch 7/20\n",
            "110/110 [==============================] - ETA: 0s - loss: 0.0181 - accuracy: 0.9942\n",
            "Epoch 00007: val_accuracy improved from 0.89448 to 0.90416, saving model to model.07-0.9042.h5\n",
            "110/110 [==============================] - 91s 829ms/step - loss: 0.0181 - accuracy: 0.9942 - val_loss: 0.4826 - val_accuracy: 0.9042\n",
            "Epoch 8/20\n",
            "110/110 [==============================] - ETA: 0s - loss: 0.0167 - accuracy: 0.9951\n",
            "Epoch 00008: val_accuracy did not improve from 0.90416\n",
            "110/110 [==============================] - 90s 816ms/step - loss: 0.0167 - accuracy: 0.9951 - val_loss: 0.5168 - val_accuracy: 0.8945\n",
            "Epoch 9/20\n",
            "110/110 [==============================] - ETA: 0s - loss: 0.0111 - accuracy: 0.9969\n",
            "Epoch 00009: val_accuracy did not improve from 0.90416\n",
            "110/110 [==============================] - 90s 816ms/step - loss: 0.0111 - accuracy: 0.9969 - val_loss: 0.6086 - val_accuracy: 0.8824\n",
            "Epoch 10/20\n",
            "110/110 [==============================] - ETA: 0s - loss: 0.0127 - accuracy: 0.9960\n",
            "Epoch 00010: val_accuracy did not improve from 0.90416\n",
            "110/110 [==============================] - 90s 815ms/step - loss: 0.0127 - accuracy: 0.9960 - val_loss: 0.5731 - val_accuracy: 0.8877\n",
            "Epoch 11/20\n",
            "110/110 [==============================] - ETA: 0s - loss: 0.0117 - accuracy: 0.9964\n",
            "Epoch 00011: val_accuracy did not improve from 0.90416\n",
            "110/110 [==============================] - 90s 816ms/step - loss: 0.0117 - accuracy: 0.9964 - val_loss: 0.5604 - val_accuracy: 0.8969\n",
            "Epoch 12/20\n",
            "110/110 [==============================] - ETA: 0s - loss: 0.0073 - accuracy: 0.9977\n",
            "Epoch 00012: val_accuracy did not improve from 0.90416\n",
            "110/110 [==============================] - 90s 816ms/step - loss: 0.0073 - accuracy: 0.9977 - val_loss: 0.5988 - val_accuracy: 0.8979\n",
            "Epoch 13/20\n",
            "110/110 [==============================] - ETA: 0s - loss: 0.0079 - accuracy: 0.9970\n",
            "Epoch 00013: val_accuracy did not improve from 0.90416\n",
            "110/110 [==============================] - 90s 814ms/step - loss: 0.0079 - accuracy: 0.9970 - val_loss: 0.6494 - val_accuracy: 0.8867\n",
            "Epoch 14/20\n",
            "110/110 [==============================] - ETA: 0s - loss: 0.0074 - accuracy: 0.9971\n",
            "Epoch 00014: val_accuracy did not improve from 0.90416\n",
            "110/110 [==============================] - 90s 815ms/step - loss: 0.0074 - accuracy: 0.9971 - val_loss: 0.6131 - val_accuracy: 0.8935\n",
            "Epoch 15/20\n",
            "110/110 [==============================] - ETA: 0s - loss: 0.0057 - accuracy: 0.9980\n",
            "Epoch 00015: val_accuracy did not improve from 0.90416\n",
            "110/110 [==============================] - 90s 814ms/step - loss: 0.0057 - accuracy: 0.9980 - val_loss: 0.6210 - val_accuracy: 0.8950\n",
            "Epoch 16/20\n",
            "110/110 [==============================] - ETA: 0s - loss: 0.0044 - accuracy: 0.9986\n",
            "Epoch 00016: val_accuracy did not improve from 0.90416\n",
            "110/110 [==============================] - 90s 814ms/step - loss: 0.0044 - accuracy: 0.9986 - val_loss: 0.6619 - val_accuracy: 0.8955\n",
            "Epoch 17/20\n",
            "110/110 [==============================] - ETA: 0s - loss: 0.0039 - accuracy: 0.9989\n",
            "Epoch 00017: val_accuracy did not improve from 0.90416\n",
            "110/110 [==============================] - 90s 815ms/step - loss: 0.0039 - accuracy: 0.9989 - val_loss: 0.7359 - val_accuracy: 0.8896\n",
            "Epoch 18/20\n",
            "110/110 [==============================] - ETA: 0s - loss: 0.0085 - accuracy: 0.9974\n",
            "Epoch 00018: val_accuracy did not improve from 0.90416\n",
            "110/110 [==============================] - 90s 815ms/step - loss: 0.0085 - accuracy: 0.9974 - val_loss: 0.6189 - val_accuracy: 0.8979\n",
            "Epoch 19/20\n",
            "110/110 [==============================] - ETA: 0s - loss: 0.0053 - accuracy: 0.9984\n",
            "Epoch 00019: val_accuracy did not improve from 0.90416\n",
            "110/110 [==============================] - 90s 815ms/step - loss: 0.0053 - accuracy: 0.9984 - val_loss: 0.6514 - val_accuracy: 0.8979\n",
            "Epoch 20/20\n",
            "110/110 [==============================] - ETA: 0s - loss: 0.0028 - accuracy: 0.9990\n",
            "Epoch 00020: val_accuracy did not improve from 0.90416\n",
            "110/110 [==============================] - 90s 815ms/step - loss: 0.0028 - accuracy: 0.9990 - val_loss: 0.7005 - val_accuracy: 0.8955\n"
          ],
          "name": "stdout"
        },
        {
          "output_type": "execute_result",
          "data": {
            "text/plain": [
              "<tensorflow.python.keras.callbacks.History at 0x7fd2d5f3c0b8>"
            ]
          },
          "metadata": {
            "tags": []
          },
          "execution_count": 75
        }
      ]
    },
    {
      "cell_type": "code",
      "metadata": {
        "id": "r90z5fN-15iF",
        "colab_type": "code",
        "colab": {}
      },
      "source": [
        "model.load_weights('model.07-0.9042.h5')"
      ],
      "execution_count": 79,
      "outputs": []
    },
    {
      "cell_type": "code",
      "metadata": {
        "id": "0E3-XM-VV4DD",
        "colab_type": "code",
        "colab": {}
      },
      "source": [
        "preds=model.predict(test_ds)"
      ],
      "execution_count": 80,
      "outputs": []
    },
    {
      "cell_type": "code",
      "metadata": {
        "id": "g7NUmaK9mT9U",
        "colab_type": "code",
        "colab": {}
      },
      "source": [
        "original_values=[x[1] for x in data['dev']]"
      ],
      "execution_count": 81,
      "outputs": []
    },
    {
      "cell_type": "code",
      "metadata": {
        "id": "TRNtUxakosZt",
        "colab_type": "code",
        "colab": {
          "base_uri": "https://localhost:8080/",
          "height": 34
        },
        "outputId": "0048478c-dd26-4122-e2e1-c7b0ccc1a10f"
      },
      "source": [
        "predicted_values=tf.math.argmax(preds[0],axis=1)\n",
        "print(predicted_values.shape)"
      ],
      "execution_count": 82,
      "outputs": [
        {
          "output_type": "stream",
          "text": [
            "(2066,)\n"
          ],
          "name": "stdout"
        }
      ]
    },
    {
      "cell_type": "code",
      "metadata": {
        "id": "7MSmZA-znUWe",
        "colab_type": "code",
        "colab": {
          "base_uri": "https://localhost:8080/",
          "height": 170
        },
        "outputId": "73234ed1-fb93-461a-a215-8f48f97ea930"
      },
      "source": [
        "from sklearn.metrics import classification_report\n",
        "\n",
        "print(classification_report(original_values,predicted_values))"
      ],
      "execution_count": 83,
      "outputs": [
        {
          "output_type": "stream",
          "text": [
            "              precision    recall  f1-score   support\n",
            "\n",
            "           0       0.94      0.95      0.94      1732\n",
            "           1       0.72      0.67      0.69       334\n",
            "\n",
            "    accuracy                           0.90      2066\n",
            "   macro avg       0.83      0.81      0.82      2066\n",
            "weighted avg       0.90      0.90      0.90      2066\n",
            "\n"
          ],
          "name": "stdout"
        }
      ]
    }
  ]
}